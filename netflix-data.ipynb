{
 "cells": [
  {
   "cell_type": "code",
   "execution_count": 2,
   "id": "4687764d",
   "metadata": {},
   "outputs": [],
   "source": [
    "import pandas as pd\n",
    "import matplotlib.pyplot as plt\n",
    "import numpy as np\n",
    "from sklearn.linear_model import LinearRegression"
   ]
  },
  {
   "cell_type": "markdown",
   "id": "0dad298e",
   "metadata": {},
   "source": [
    "# Read .csv from file"
   ]
  },
  {
   "cell_type": "code",
   "execution_count": 3,
   "id": "2438fab8",
   "metadata": {},
   "outputs": [],
   "source": [
    "data = pd.read_csv('./netflix_revenue_updated.csv')"
   ]
  },
  {
   "cell_type": "code",
   "execution_count": 4,
   "id": "35c1cf3f",
   "metadata": {},
   "outputs": [],
   "source": [
    "data['Date'] = pd.to_datetime(data['Date'], dayfirst=True)\n",
    "data['Year'] = data['Date'].dt.year"
   ]
  },
  {
   "cell_type": "markdown",
   "id": "d8a154c0",
   "metadata": {},
   "source": [
    "## Count % for USA & Canada and Europe, Middle East and Africa from global earnings "
   ]
  },
  {
   "cell_type": "code",
   "execution_count": 5,
   "id": "8ea910c1",
   "metadata": {},
   "outputs": [
    {
     "data": {
      "text/html": [
       "<div>\n",
       "<style scoped>\n",
       "    .dataframe tbody tr th:only-of-type {\n",
       "        vertical-align: middle;\n",
       "    }\n",
       "\n",
       "    .dataframe tbody tr th {\n",
       "        vertical-align: top;\n",
       "    }\n",
       "\n",
       "    .dataframe thead th {\n",
       "        text-align: right;\n",
       "    }\n",
       "</style>\n",
       "<table border=\"1\" class=\"dataframe\">\n",
       "  <thead>\n",
       "    <tr style=\"text-align: right;\">\n",
       "      <th></th>\n",
       "      <th>Date</th>\n",
       "      <th>Global Revenue</th>\n",
       "      <th>UCAN Streaming Revenue</th>\n",
       "      <th>UCAN%</th>\n",
       "      <th>EMEA Streaming Revenue</th>\n",
       "      <th>EMEA%</th>\n",
       "    </tr>\n",
       "  </thead>\n",
       "  <tbody>\n",
       "    <tr>\n",
       "      <th>0</th>\n",
       "      <td>2019-03-31</td>\n",
       "      <td>4520992000</td>\n",
       "      <td>2256851000</td>\n",
       "      <td>49.92</td>\n",
       "      <td>1233379000</td>\n",
       "      <td>27.28</td>\n",
       "    </tr>\n",
       "    <tr>\n",
       "      <th>1</th>\n",
       "      <td>2019-06-30</td>\n",
       "      <td>4923116000</td>\n",
       "      <td>2501199000</td>\n",
       "      <td>50.81</td>\n",
       "      <td>1319087000</td>\n",
       "      <td>26.79</td>\n",
       "    </tr>\n",
       "    <tr>\n",
       "      <th>2</th>\n",
       "      <td>2019-09-30</td>\n",
       "      <td>5244905000</td>\n",
       "      <td>2621250000</td>\n",
       "      <td>49.98</td>\n",
       "      <td>1428040000</td>\n",
       "      <td>27.23</td>\n",
       "    </tr>\n",
       "    <tr>\n",
       "      <th>3</th>\n",
       "      <td>2019-12-31</td>\n",
       "      <td>5467434000</td>\n",
       "      <td>2671908000</td>\n",
       "      <td>48.87</td>\n",
       "      <td>1562561000</td>\n",
       "      <td>28.58</td>\n",
       "    </tr>\n",
       "    <tr>\n",
       "      <th>4</th>\n",
       "      <td>2020-03-31</td>\n",
       "      <td>5767691000</td>\n",
       "      <td>2702776000</td>\n",
       "      <td>46.86</td>\n",
       "      <td>1723474000</td>\n",
       "      <td>29.88</td>\n",
       "    </tr>\n",
       "    <tr>\n",
       "      <th>5</th>\n",
       "      <td>2020-06-30</td>\n",
       "      <td>6148286000</td>\n",
       "      <td>2839670000</td>\n",
       "      <td>46.19</td>\n",
       "      <td>1892537000</td>\n",
       "      <td>30.78</td>\n",
       "    </tr>\n",
       "    <tr>\n",
       "      <th>6</th>\n",
       "      <td>2020-09-30</td>\n",
       "      <td>6435637000</td>\n",
       "      <td>2933445000</td>\n",
       "      <td>45.58</td>\n",
       "      <td>2019083000</td>\n",
       "      <td>31.37</td>\n",
       "    </tr>\n",
       "    <tr>\n",
       "      <th>7</th>\n",
       "      <td>2020-12-31</td>\n",
       "      <td>6644442000</td>\n",
       "      <td>2979505000</td>\n",
       "      <td>44.84</td>\n",
       "      <td>2137158000</td>\n",
       "      <td>32.16</td>\n",
       "    </tr>\n",
       "    <tr>\n",
       "      <th>8</th>\n",
       "      <td>2021-03-31</td>\n",
       "      <td>7163282000</td>\n",
       "      <td>3170972000</td>\n",
       "      <td>44.27</td>\n",
       "      <td>2343674000</td>\n",
       "      <td>32.72</td>\n",
       "    </tr>\n",
       "    <tr>\n",
       "      <th>9</th>\n",
       "      <td>2021-06-30</td>\n",
       "      <td>7341777000</td>\n",
       "      <td>3234643000</td>\n",
       "      <td>44.06</td>\n",
       "      <td>2400480000</td>\n",
       "      <td>32.70</td>\n",
       "    </tr>\n",
       "    <tr>\n",
       "      <th>10</th>\n",
       "      <td>2021-09-30</td>\n",
       "      <td>7483467000</td>\n",
       "      <td>3257697000</td>\n",
       "      <td>43.53</td>\n",
       "      <td>2432239000</td>\n",
       "      <td>32.50</td>\n",
       "    </tr>\n",
       "    <tr>\n",
       "      <th>11</th>\n",
       "      <td>2021-12-31</td>\n",
       "      <td>7709318000</td>\n",
       "      <td>3308788000</td>\n",
       "      <td>42.92</td>\n",
       "      <td>2523426000</td>\n",
       "      <td>32.73</td>\n",
       "    </tr>\n",
       "    <tr>\n",
       "      <th>12</th>\n",
       "      <td>2022-03-31</td>\n",
       "      <td>7867767000</td>\n",
       "      <td>3350424000</td>\n",
       "      <td>42.58</td>\n",
       "      <td>2561831000</td>\n",
       "      <td>32.56</td>\n",
       "    </tr>\n",
       "    <tr>\n",
       "      <th>13</th>\n",
       "      <td>2022-06-30</td>\n",
       "      <td>7970141000</td>\n",
       "      <td>3537863000</td>\n",
       "      <td>44.39</td>\n",
       "      <td>2457235000</td>\n",
       "      <td>30.83</td>\n",
       "    </tr>\n",
       "    <tr>\n",
       "      <th>14</th>\n",
       "      <td>2022-09-30</td>\n",
       "      <td>7925589000</td>\n",
       "      <td>3601565000</td>\n",
       "      <td>45.44</td>\n",
       "      <td>2375814000</td>\n",
       "      <td>29.98</td>\n",
       "    </tr>\n",
       "    <tr>\n",
       "      <th>15</th>\n",
       "      <td>2022-12-31</td>\n",
       "      <td>7852053000</td>\n",
       "      <td>3594791000</td>\n",
       "      <td>45.78</td>\n",
       "      <td>2350135000</td>\n",
       "      <td>29.93</td>\n",
       "    </tr>\n",
       "    <tr>\n",
       "      <th>16</th>\n",
       "      <td>2023-03-31</td>\n",
       "      <td>8161503000</td>\n",
       "      <td>3608645000</td>\n",
       "      <td>44.22</td>\n",
       "      <td>2517641000</td>\n",
       "      <td>30.85</td>\n",
       "    </tr>\n",
       "  </tbody>\n",
       "</table>\n",
       "</div>"
      ],
      "text/plain": [
       "         Date  Global Revenue  UCAN Streaming Revenue  UCAN%  \\\n",
       "0  2019-03-31      4520992000              2256851000  49.92   \n",
       "1  2019-06-30      4923116000              2501199000  50.81   \n",
       "2  2019-09-30      5244905000              2621250000  49.98   \n",
       "3  2019-12-31      5467434000              2671908000  48.87   \n",
       "4  2020-03-31      5767691000              2702776000  46.86   \n",
       "5  2020-06-30      6148286000              2839670000  46.19   \n",
       "6  2020-09-30      6435637000              2933445000  45.58   \n",
       "7  2020-12-31      6644442000              2979505000  44.84   \n",
       "8  2021-03-31      7163282000              3170972000  44.27   \n",
       "9  2021-06-30      7341777000              3234643000  44.06   \n",
       "10 2021-09-30      7483467000              3257697000  43.53   \n",
       "11 2021-12-31      7709318000              3308788000  42.92   \n",
       "12 2022-03-31      7867767000              3350424000  42.58   \n",
       "13 2022-06-30      7970141000              3537863000  44.39   \n",
       "14 2022-09-30      7925589000              3601565000  45.44   \n",
       "15 2022-12-31      7852053000              3594791000  45.78   \n",
       "16 2023-03-31      8161503000              3608645000  44.22   \n",
       "\n",
       "    EMEA Streaming Revenue  EMEA%  \n",
       "0               1233379000  27.28  \n",
       "1               1319087000  26.79  \n",
       "2               1428040000  27.23  \n",
       "3               1562561000  28.58  \n",
       "4               1723474000  29.88  \n",
       "5               1892537000  30.78  \n",
       "6               2019083000  31.37  \n",
       "7               2137158000  32.16  \n",
       "8               2343674000  32.72  \n",
       "9               2400480000  32.70  \n",
       "10              2432239000  32.50  \n",
       "11              2523426000  32.73  \n",
       "12              2561831000  32.56  \n",
       "13              2457235000  30.83  \n",
       "14              2375814000  29.98  \n",
       "15              2350135000  29.93  \n",
       "16              2517641000  30.85  "
      ]
     },
     "execution_count": 5,
     "metadata": {},
     "output_type": "execute_result"
    }
   ],
   "source": [
    "r_ucan = []\n",
    "r_emea = []\n",
    "\n",
    "for i,r in data[\"Global Revenue\"].items():\n",
    "    u = list(data[\"UCAN Streaming Revenue\"].items())[i][1] * 100 / r\n",
    "    e = list(data[\"EMEA Streaming Revenue\"].items())[i][1] * 100 / r\n",
    "    r_ucan.append(round(u, 2))\n",
    "    r_emea.append(round(e, 2))\n",
    "\n",
    "data[\"UCAN%\"] = r_ucan\n",
    "data[\"EMEA%\"] = r_emea\n",
    "data.loc[:,[\"Date\", \"Global Revenue\", \"UCAN Streaming Revenue\", \"UCAN%\", \"EMEA Streaming Revenue\", \"EMEA%\"]]"
   ]
  },
  {
   "cell_type": "code",
   "execution_count": 14,
   "id": "22a91e34",
   "metadata": {},
   "outputs": [
    {
     "data": {
      "text/plain": [
       "<matplotlib.legend.Legend at 0x1413ed790>"
      ]
     },
     "execution_count": 14,
     "metadata": {},
     "output_type": "execute_result"
    },
    {
     "data": {
      "image/png": "[encoded data removed]",
      "text/plain": [
       "<Figure size 640x480 with 1 Axes>"
      ]
     },
     "metadata": {},
     "output_type": "display_data"
    }
   ],
   "source": [
    "data.plot(x='Year', y=['UCAN%', 'EMEA%'], kind='bar', legend=True)\n",
    "plt.title('USA & Canada vs Europe, Middle East and Africa')\n",
    "plt.xlabel('Date')\n",
    "plt.ylabel('Value % of Global Revenue')\n",
    "plt.legend(['USA & Canada', 'Europe, Middle East and Africa'])"
   ]
  },
  {
   "cell_type": "markdown",
   "id": "2e535caa-80fd-436a-93c5-f7fb469483ab",
   "metadata": {},
   "source": [
    "## Predict % for USA & Canada and Europe, Middle East and Africa from global earnings"
   ]
  },
  {
   "cell_type": "code",
   "execution_count": 54,
   "id": "aad4a051",
   "metadata": {},
   "outputs": [],
   "source": [
    "x_ucan = np.arange(len(r_ucan)).reshape(-1, 1)\n",
    "y_ucan = r_ucan\n",
    "\n",
    "x_emea = np.arange(len(r_emea)).reshape(-1, 1)\n",
    "y_emea = r_emea\n",
    "\n",
    "# Create a linear regression model\n",
    "model_ucan = LinearRegression()\n",
    "model_emea = LinearRegression()\n",
    "\n",
    "# Train the model\n",
    "model_ucan.fit(x_ucan, y_ucan)\n",
    "model_emea.fit(x_emea, y_emea)\n",
    "\n",
    "future_ucan = np.arange(len(r_ucan), len(r_ucan) + 15).reshape(-1, 1)\n",
    "predicted_values_ucan = model_ucan.predict(future_ucan)\n",
    "\n",
    "future_emea = np.arange(len(r_emea), len(r_emea) + 15).reshape(-1, 1)\n",
    "predicted_values_emea = model_emea.predict(future_emea)\n",
    "\n",
    "predicted_values_ucan = [round(x,2) for x in predicted_values_ucan]\n",
    "predicted_values_emea = [round(x,2) for x in predicted_values_emea]\n",
    "\n",
    "# predicted_values_ucan = predicted_values_ucan[3:] # skip rest of 2023"
   ]
  },
  {
   "cell_type": "code",
   "execution_count": 55,
   "id": "cd675de8",
   "metadata": {},
   "outputs": [
    {
     "data": {
      "text/plain": [
       "<matplotlib.legend.Legend at 0x146c01950>"
      ]
     },
     "execution_count": 55,
     "metadata": {},
     "output_type": "execute_result"
    },
    {
     "data": {
      "image/png": "[encoded data removed]",
      "text/plain": [
       "<Figure size 640x480 with 1 Axes>"
      ]
     },
     "metadata": {},
     "output_type": "display_data"
    }
   ],
   "source": [
    "predicted = pd.DataFrame({'Year':[2023, 2023, 2023, 2024, 2024, 2024, 2024, 2025, 2025, 2025, 2025, 2026, 2026, 2026, 2026]})\n",
    "predicted['UCAN%'] = predicted_values_ucan\n",
    "predicted['EMEA%'] = predicted_values_emea\n",
    "\n",
    "predicted.plot(x='Year', y=['UCAN%', 'EMEA%'], kind='bar', legend=True)\n",
    "plt.title('USA & Canada vs Europe, Middle East and Africa predicted values')\n",
    "plt.xlabel('Date')\n",
    "plt.ylabel('Value % of Global Revenue')\n",
    "plt.legend(['USA & Canada', 'Europe, Middle East and Africa'])"
   ]
  }
 ],
 "metadata": {
  "kernelspec": {
   "display_name": "Python 3 (ipykernel)",
   "language": "python",
   "name": "python3"
  },
  "language_info": {
   "codemirror_mode": {
    "name": "ipython",
    "version": 3
   },
   "file_extension": ".py",
   "mimetype": "text/x-python",
   "name": "python",
   "nbconvert_exporter": "python",
   "pygments_lexer": "ipython3",
   "version": "3.11.5"
  }
 },
 "nbformat": 4,
 "nbformat_minor": 5
}
